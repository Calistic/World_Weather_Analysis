{
 "cells": [
  {
   "cell_type": "code",
   "execution_count": 1,
   "metadata": {},
   "outputs": [],
   "source": [
    "# Import the dependencies.\n",
    "import pandas as pd\n",
    "import gmaps\n",
    "import requests\n",
    "# Import the API key.\n",
    "from config import g_key"
   ]
  },
  {
   "cell_type": "code",
   "execution_count": 2,
   "metadata": {},
   "outputs": [
    {
     "data": {
      "text/html": [
       "<div>\n",
       "<style scoped>\n",
       "    .dataframe tbody tr th:only-of-type {\n",
       "        vertical-align: middle;\n",
       "    }\n",
       "\n",
       "    .dataframe tbody tr th {\n",
       "        vertical-align: top;\n",
       "    }\n",
       "\n",
       "    .dataframe thead th {\n",
       "        text-align: right;\n",
       "    }\n",
       "</style>\n",
       "<table border=\"1\" class=\"dataframe\">\n",
       "  <thead>\n",
       "    <tr style=\"text-align: right;\">\n",
       "      <th></th>\n",
       "      <th>City_ID</th>\n",
       "      <th>City</th>\n",
       "      <th>Country</th>\n",
       "      <th>Date</th>\n",
       "      <th>Lat</th>\n",
       "      <th>Lng</th>\n",
       "      <th>Max Temp</th>\n",
       "      <th>Humidity</th>\n",
       "      <th>Cloudiness</th>\n",
       "      <th>Wind Speed</th>\n",
       "    </tr>\n",
       "  </thead>\n",
       "  <tbody>\n",
       "    <tr>\n",
       "      <th>0</th>\n",
       "      <td>0</td>\n",
       "      <td>Punta Arenas</td>\n",
       "      <td>CL</td>\n",
       "      <td>2020-01-04 22:29:04</td>\n",
       "      <td>-53.16</td>\n",
       "      <td>-70.91</td>\n",
       "      <td>53.60</td>\n",
       "      <td>54</td>\n",
       "      <td>75</td>\n",
       "      <td>13.87</td>\n",
       "    </tr>\n",
       "    <tr>\n",
       "      <th>1</th>\n",
       "      <td>1</td>\n",
       "      <td>Port Elizabeth</td>\n",
       "      <td>US</td>\n",
       "      <td>2020-01-04 22:29:04</td>\n",
       "      <td>39.31</td>\n",
       "      <td>-74.98</td>\n",
       "      <td>57.00</td>\n",
       "      <td>100</td>\n",
       "      <td>90</td>\n",
       "      <td>3.36</td>\n",
       "    </tr>\n",
       "    <tr>\n",
       "      <th>2</th>\n",
       "      <td>2</td>\n",
       "      <td>Krabi</td>\n",
       "      <td>TH</td>\n",
       "      <td>2020-01-04 22:29:04</td>\n",
       "      <td>8.06</td>\n",
       "      <td>98.92</td>\n",
       "      <td>75.20</td>\n",
       "      <td>100</td>\n",
       "      <td>20</td>\n",
       "      <td>5.82</td>\n",
       "    </tr>\n",
       "    <tr>\n",
       "      <th>3</th>\n",
       "      <td>3</td>\n",
       "      <td>Barrow</td>\n",
       "      <td>AR</td>\n",
       "      <td>2020-01-04 22:29:05</td>\n",
       "      <td>-38.31</td>\n",
       "      <td>-60.23</td>\n",
       "      <td>77.27</td>\n",
       "      <td>55</td>\n",
       "      <td>75</td>\n",
       "      <td>18.05</td>\n",
       "    </tr>\n",
       "    <tr>\n",
       "      <th>4</th>\n",
       "      <td>4</td>\n",
       "      <td>Ankazoabo</td>\n",
       "      <td>MG</td>\n",
       "      <td>2020-01-04 22:29:05</td>\n",
       "      <td>-22.29</td>\n",
       "      <td>44.51</td>\n",
       "      <td>75.22</td>\n",
       "      <td>69</td>\n",
       "      <td>14</td>\n",
       "      <td>2.89</td>\n",
       "    </tr>\n",
       "  </tbody>\n",
       "</table>\n",
       "</div>"
      ],
      "text/plain": [
       "   City_ID            City Country                 Date    Lat    Lng  \\\n",
       "0        0    Punta Arenas      CL  2020-01-04 22:29:04 -53.16 -70.91   \n",
       "1        1  Port Elizabeth      US  2020-01-04 22:29:04  39.31 -74.98   \n",
       "2        2           Krabi      TH  2020-01-04 22:29:04   8.06  98.92   \n",
       "3        3          Barrow      AR  2020-01-04 22:29:05 -38.31 -60.23   \n",
       "4        4       Ankazoabo      MG  2020-01-04 22:29:05 -22.29  44.51   \n",
       "\n",
       "   Max Temp  Humidity  Cloudiness  Wind Speed  \n",
       "0     53.60        54          75       13.87  \n",
       "1     57.00       100          90        3.36  \n",
       "2     75.20       100          20        5.82  \n",
       "3     77.27        55          75       18.05  \n",
       "4     75.22        69          14        2.89  "
      ]
     },
     "execution_count": 2,
     "metadata": {},
     "output_type": "execute_result"
    }
   ],
   "source": [
    "# Store the CSV you saved created in part one into a DataFrame.\n",
    "city_data_df = pd.read_csv(\"weather_data/cities.csv\")\n",
    "city_data_df.head()"
   ]
  },
  {
   "cell_type": "code",
   "execution_count": 3,
   "metadata": {},
   "outputs": [
    {
     "data": {
      "text/plain": [
       "City_ID         int64\n",
       "City           object\n",
       "Country        object\n",
       "Date           object\n",
       "Lat           float64\n",
       "Lng           float64\n",
       "Max Temp      float64\n",
       "Humidity        int64\n",
       "Cloudiness      int64\n",
       "Wind Speed    float64\n",
       "dtype: object"
      ]
     },
     "execution_count": 3,
     "metadata": {},
     "output_type": "execute_result"
    }
   ],
   "source": [
    "city_data_df.dtypes"
   ]
  },
  {
   "cell_type": "code",
   "execution_count": 4,
   "metadata": {},
   "outputs": [],
   "source": [
    "# Configure gmaps to use your Google API key.\n",
    "gmaps.configure(api_key=g_key)"
   ]
  },
  {
   "cell_type": "code",
   "execution_count": 5,
   "metadata": {},
   "outputs": [],
   "source": [
    "# Get the maximum temperature.\n",
    "max_temp = city_data_df[\"Max Temp\"]\n",
    "temps = []\n",
    "for temp in max_temp:\n",
    "    temps.append(max(temp, 0))"
   ]
  },
  {
   "cell_type": "code",
   "execution_count": 6,
   "metadata": {},
   "outputs": [
    {
     "data": {
      "application/vnd.jupyter.widget-view+json": {
       "model_id": "41f56f789b5e4bfba905896e0639a2b3",
       "version_major": 2,
       "version_minor": 0
      },
      "text/plain": [
       "Figure(layout=FigureLayout(height='420px'))"
      ]
     },
     "metadata": {},
     "output_type": "display_data"
    }
   ],
   "source": [
    "# Heatmap of temperature\n",
    "# Get the latitude and longitude.\n",
    "locations = city_data_df[[\"Lat\", \"Lng\"]]\n",
    "# Get the maximum temperature.\n",
    "max_temp = city_data_df[\"Max Temp\"]\n",
    "# Assign the figure variable.\n",
    "fig = gmaps.figure(center=(30.0, 31.0), zoom_level=1.5)\n",
    "# Assign the heatmap variable.\n",
    "heat_layer = gmaps.heatmap_layer(locations, weights=temps, dissipating=False, max_intensity=300, point_radius=4)\n",
    "# Add the heatmap layer.\n",
    "fig.add_layer(heat_layer)\n",
    "\n",
    "\n",
    "# Call the figure to plot the data.\n",
    "fig"
   ]
  },
  {
   "cell_type": "code",
   "execution_count": 7,
   "metadata": {},
   "outputs": [
    {
     "data": {
      "application/vnd.jupyter.widget-view+json": {
       "model_id": "34872ec39c4247edaa692600d0d2d4e1",
       "version_major": 2,
       "version_minor": 0
      },
      "text/plain": [
       "Figure(layout=FigureLayout(height='420px'))"
      ]
     },
     "metadata": {},
     "output_type": "display_data"
    }
   ],
   "source": [
    "# Heatmap of percent humidity\n",
    "locations = city_data_df[[\"Lat\", \"Lng\"]]\n",
    "humidity = city_data_df[\"Humidity\"]\n",
    "fig = gmaps.figure(center=(30.0, 31.0), zoom_level=1.5)\n",
    "heat_layer = gmaps.heatmap_layer(locations, weights=humidity, dissipating=False, max_intensity=300, point_radius=4)\n",
    "\n",
    "fig.add_layer(heat_layer)\n",
    "# Call the figure to plot the data.\n",
    "fig"
   ]
  },
  {
   "cell_type": "code",
   "execution_count": 8,
   "metadata": {},
   "outputs": [
    {
     "data": {
      "application/vnd.jupyter.widget-view+json": {
       "model_id": "5ecd1e60d7be4c8984c47a93518c54bb",
       "version_major": 2,
       "version_minor": 0
      },
      "text/plain": [
       "Figure(layout=FigureLayout(height='420px'))"
      ]
     },
     "metadata": {},
     "output_type": "display_data"
    }
   ],
   "source": [
    "# Heatmap of percent cloudiness\n",
    "locations = city_data_df[[\"Lat\", \"Lng\"]]\n",
    "clouds = city_data_df[\"Cloudiness\"]\n",
    "\n",
    "fig = gmaps.figure(center=(30.0, 31.0), zoom_level=1.5)\n",
    "heat_layer = gmaps.heatmap_layer(locations, weights=clouds, dissipating=False, max_intensity=300, point_radius=4)\n",
    "\n",
    "fig.add_layer(heat_layer)\n",
    "# Call the figure to plot the data.\n",
    "\n",
    "fig"
   ]
  },
  {
   "cell_type": "code",
   "execution_count": 9,
   "metadata": {},
   "outputs": [
    {
     "data": {
      "application/vnd.jupyter.widget-view+json": {
       "model_id": "96a2329f497d4e5ba6575109ae2cd757",
       "version_major": 2,
       "version_minor": 0
      },
      "text/plain": [
       "Figure(layout=FigureLayout(height='420px'))"
      ]
     },
     "metadata": {},
     "output_type": "display_data"
    }
   ],
   "source": [
    "# Heatmap of percent cloudiness\n",
    "locations = city_data_df[[\"Lat\", \"Lng\"]]\n",
    "wind = city_data_df[\"Wind Speed\"]\n",
    "\n",
    "fig = gmaps.figure(center=(30.0, 31.0), zoom_level=1.5)\n",
    "heat_layer = gmaps.heatmap_layer(locations, weights=wind, dissipating=False, max_intensity=300, point_radius=4)\n",
    "\n",
    "fig.add_layer(heat_layer)\n",
    "# Call the figure to plot the data.\n",
    "\n",
    "fig"
   ]
  },
  {
   "cell_type": "code",
   "execution_count": 10,
   "metadata": {},
   "outputs": [
    {
     "name": "stdout",
     "output_type": "stream",
     "text": [
      "What is the minimum temperature you would like for your trip? 75\n",
      "What is the maximum temperature you would like for your trip? 90\n"
     ]
    }
   ],
   "source": [
    "# Ask the customer to add a minimum and maximum temperature value.\n",
    "min_temp = float(input(\"What is the minimum temperature you would like for your trip? \"))\n",
    "max_temp = float(input(\"What is the maximum temperature you would like for your trip? \"))"
   ]
  },
  {
   "cell_type": "code",
   "execution_count": 11,
   "metadata": {},
   "outputs": [
    {
     "data": {
      "text/html": [
       "<div>\n",
       "<style scoped>\n",
       "    .dataframe tbody tr th:only-of-type {\n",
       "        vertical-align: middle;\n",
       "    }\n",
       "\n",
       "    .dataframe tbody tr th {\n",
       "        vertical-align: top;\n",
       "    }\n",
       "\n",
       "    .dataframe thead th {\n",
       "        text-align: right;\n",
       "    }\n",
       "</style>\n",
       "<table border=\"1\" class=\"dataframe\">\n",
       "  <thead>\n",
       "    <tr style=\"text-align: right;\">\n",
       "      <th></th>\n",
       "      <th>City_ID</th>\n",
       "      <th>City</th>\n",
       "      <th>Country</th>\n",
       "      <th>Date</th>\n",
       "      <th>Lat</th>\n",
       "      <th>Lng</th>\n",
       "      <th>Max Temp</th>\n",
       "      <th>Humidity</th>\n",
       "      <th>Cloudiness</th>\n",
       "      <th>Wind Speed</th>\n",
       "    </tr>\n",
       "  </thead>\n",
       "  <tbody>\n",
       "    <tr>\n",
       "      <th>2</th>\n",
       "      <td>2</td>\n",
       "      <td>Krabi</td>\n",
       "      <td>TH</td>\n",
       "      <td>2020-01-04 22:29:04</td>\n",
       "      <td>8.06</td>\n",
       "      <td>98.92</td>\n",
       "      <td>75.20</td>\n",
       "      <td>100</td>\n",
       "      <td>20</td>\n",
       "      <td>5.82</td>\n",
       "    </tr>\n",
       "    <tr>\n",
       "      <th>3</th>\n",
       "      <td>3</td>\n",
       "      <td>Barrow</td>\n",
       "      <td>AR</td>\n",
       "      <td>2020-01-04 22:29:05</td>\n",
       "      <td>-38.31</td>\n",
       "      <td>-60.23</td>\n",
       "      <td>77.27</td>\n",
       "      <td>55</td>\n",
       "      <td>75</td>\n",
       "      <td>18.05</td>\n",
       "    </tr>\n",
       "    <tr>\n",
       "      <th>4</th>\n",
       "      <td>4</td>\n",
       "      <td>Ankazoabo</td>\n",
       "      <td>MG</td>\n",
       "      <td>2020-01-04 22:29:05</td>\n",
       "      <td>-22.29</td>\n",
       "      <td>44.51</td>\n",
       "      <td>75.22</td>\n",
       "      <td>69</td>\n",
       "      <td>14</td>\n",
       "      <td>2.89</td>\n",
       "    </tr>\n",
       "    <tr>\n",
       "      <th>6</th>\n",
       "      <td>6</td>\n",
       "      <td>Atuona</td>\n",
       "      <td>PF</td>\n",
       "      <td>2020-01-04 22:29:05</td>\n",
       "      <td>-9.80</td>\n",
       "      <td>-139.03</td>\n",
       "      <td>81.55</td>\n",
       "      <td>68</td>\n",
       "      <td>5</td>\n",
       "      <td>9.24</td>\n",
       "    </tr>\n",
       "    <tr>\n",
       "      <th>11</th>\n",
       "      <td>11</td>\n",
       "      <td>Sao Francisco De Paula</td>\n",
       "      <td>BR</td>\n",
       "      <td>2020-01-04 22:29:06</td>\n",
       "      <td>-29.45</td>\n",
       "      <td>-50.58</td>\n",
       "      <td>75.99</td>\n",
       "      <td>84</td>\n",
       "      <td>44</td>\n",
       "      <td>1.01</td>\n",
       "    </tr>\n",
       "    <tr>\n",
       "      <th>13</th>\n",
       "      <td>13</td>\n",
       "      <td>Faanui</td>\n",
       "      <td>PF</td>\n",
       "      <td>2020-01-04 22:29:07</td>\n",
       "      <td>-16.48</td>\n",
       "      <td>-151.75</td>\n",
       "      <td>81.45</td>\n",
       "      <td>77</td>\n",
       "      <td>100</td>\n",
       "      <td>12.10</td>\n",
       "    </tr>\n",
       "    <tr>\n",
       "      <th>19</th>\n",
       "      <td>19</td>\n",
       "      <td>Grand Gaube</td>\n",
       "      <td>MU</td>\n",
       "      <td>2020-01-04 22:29:08</td>\n",
       "      <td>-20.01</td>\n",
       "      <td>57.66</td>\n",
       "      <td>78.01</td>\n",
       "      <td>94</td>\n",
       "      <td>75</td>\n",
       "      <td>12.03</td>\n",
       "    </tr>\n",
       "    <tr>\n",
       "      <th>26</th>\n",
       "      <td>26</td>\n",
       "      <td>Piacabucu</td>\n",
       "      <td>BR</td>\n",
       "      <td>2020-01-04 22:29:09</td>\n",
       "      <td>-10.41</td>\n",
       "      <td>-36.43</td>\n",
       "      <td>79.34</td>\n",
       "      <td>79</td>\n",
       "      <td>100</td>\n",
       "      <td>12.62</td>\n",
       "    </tr>\n",
       "    <tr>\n",
       "      <th>28</th>\n",
       "      <td>28</td>\n",
       "      <td>Georgetown</td>\n",
       "      <td>GY</td>\n",
       "      <td>2020-01-04 22:24:48</td>\n",
       "      <td>6.80</td>\n",
       "      <td>-58.16</td>\n",
       "      <td>82.40</td>\n",
       "      <td>74</td>\n",
       "      <td>20</td>\n",
       "      <td>6.93</td>\n",
       "    </tr>\n",
       "    <tr>\n",
       "      <th>29</th>\n",
       "      <td>29</td>\n",
       "      <td>Rikitea</td>\n",
       "      <td>PF</td>\n",
       "      <td>2020-01-04 22:25:53</td>\n",
       "      <td>-23.12</td>\n",
       "      <td>-134.97</td>\n",
       "      <td>77.20</td>\n",
       "      <td>77</td>\n",
       "      <td>67</td>\n",
       "      <td>16.60</td>\n",
       "    </tr>\n",
       "  </tbody>\n",
       "</table>\n",
       "</div>"
      ],
      "text/plain": [
       "    City_ID                    City Country                 Date    Lat  \\\n",
       "2         2                   Krabi      TH  2020-01-04 22:29:04   8.06   \n",
       "3         3                  Barrow      AR  2020-01-04 22:29:05 -38.31   \n",
       "4         4               Ankazoabo      MG  2020-01-04 22:29:05 -22.29   \n",
       "6         6                  Atuona      PF  2020-01-04 22:29:05  -9.80   \n",
       "11       11  Sao Francisco De Paula      BR  2020-01-04 22:29:06 -29.45   \n",
       "13       13                  Faanui      PF  2020-01-04 22:29:07 -16.48   \n",
       "19       19             Grand Gaube      MU  2020-01-04 22:29:08 -20.01   \n",
       "26       26               Piacabucu      BR  2020-01-04 22:29:09 -10.41   \n",
       "28       28              Georgetown      GY  2020-01-04 22:24:48   6.80   \n",
       "29       29                 Rikitea      PF  2020-01-04 22:25:53 -23.12   \n",
       "\n",
       "       Lng  Max Temp  Humidity  Cloudiness  Wind Speed  \n",
       "2    98.92     75.20       100          20        5.82  \n",
       "3   -60.23     77.27        55          75       18.05  \n",
       "4    44.51     75.22        69          14        2.89  \n",
       "6  -139.03     81.55        68           5        9.24  \n",
       "11  -50.58     75.99        84          44        1.01  \n",
       "13 -151.75     81.45        77         100       12.10  \n",
       "19   57.66     78.01        94          75       12.03  \n",
       "26  -36.43     79.34        79         100       12.62  \n",
       "28  -58.16     82.40        74          20        6.93  \n",
       "29 -134.97     77.20        77          67       16.60  "
      ]
     },
     "execution_count": 11,
     "metadata": {},
     "output_type": "execute_result"
    }
   ],
   "source": [
    "# Filter the dataset to find the cities that fit the criteria.\n",
    "preferred_cities_df = city_data_df.loc[(city_data_df[\"Max Temp\"] <= max_temp) & \\\n",
    "                                       (city_data_df[\"Max Temp\"] >= min_temp)]\n",
    "preferred_cities_df.head(10)"
   ]
  },
  {
   "cell_type": "code",
   "execution_count": 12,
   "metadata": {},
   "outputs": [
    {
     "data": {
      "text/plain": [
       "City_ID       139\n",
       "City          139\n",
       "Country       138\n",
       "Date          139\n",
       "Lat           139\n",
       "Lng           139\n",
       "Max Temp      139\n",
       "Humidity      139\n",
       "Cloudiness    139\n",
       "Wind Speed    139\n",
       "dtype: int64"
      ]
     },
     "execution_count": 12,
     "metadata": {},
     "output_type": "execute_result"
    }
   ],
   "source": [
    "preferred_cities_df.count()"
   ]
  },
  {
   "cell_type": "code",
   "execution_count": 13,
   "metadata": {},
   "outputs": [
    {
     "data": {
      "text/html": [
       "<div>\n",
       "<style scoped>\n",
       "    .dataframe tbody tr th:only-of-type {\n",
       "        vertical-align: middle;\n",
       "    }\n",
       "\n",
       "    .dataframe tbody tr th {\n",
       "        vertical-align: top;\n",
       "    }\n",
       "\n",
       "    .dataframe thead th {\n",
       "        text-align: right;\n",
       "    }\n",
       "</style>\n",
       "<table border=\"1\" class=\"dataframe\">\n",
       "  <thead>\n",
       "    <tr style=\"text-align: right;\">\n",
       "      <th></th>\n",
       "      <th>City</th>\n",
       "      <th>Country</th>\n",
       "      <th>Max Temp</th>\n",
       "      <th>Lat</th>\n",
       "      <th>Lng</th>\n",
       "      <th>Hotel Name</th>\n",
       "    </tr>\n",
       "  </thead>\n",
       "  <tbody>\n",
       "    <tr>\n",
       "      <th>2</th>\n",
       "      <td>Krabi</td>\n",
       "      <td>TH</td>\n",
       "      <td>75.20</td>\n",
       "      <td>8.06</td>\n",
       "      <td>98.92</td>\n",
       "      <td></td>\n",
       "    </tr>\n",
       "    <tr>\n",
       "      <th>3</th>\n",
       "      <td>Barrow</td>\n",
       "      <td>AR</td>\n",
       "      <td>77.27</td>\n",
       "      <td>-38.31</td>\n",
       "      <td>-60.23</td>\n",
       "      <td></td>\n",
       "    </tr>\n",
       "    <tr>\n",
       "      <th>4</th>\n",
       "      <td>Ankazoabo</td>\n",
       "      <td>MG</td>\n",
       "      <td>75.22</td>\n",
       "      <td>-22.29</td>\n",
       "      <td>44.51</td>\n",
       "      <td></td>\n",
       "    </tr>\n",
       "    <tr>\n",
       "      <th>6</th>\n",
       "      <td>Atuona</td>\n",
       "      <td>PF</td>\n",
       "      <td>81.55</td>\n",
       "      <td>-9.80</td>\n",
       "      <td>-139.03</td>\n",
       "      <td></td>\n",
       "    </tr>\n",
       "    <tr>\n",
       "      <th>11</th>\n",
       "      <td>Sao Francisco De Paula</td>\n",
       "      <td>BR</td>\n",
       "      <td>75.99</td>\n",
       "      <td>-29.45</td>\n",
       "      <td>-50.58</td>\n",
       "      <td></td>\n",
       "    </tr>\n",
       "    <tr>\n",
       "      <th>...</th>\n",
       "      <td>...</td>\n",
       "      <td>...</td>\n",
       "      <td>...</td>\n",
       "      <td>...</td>\n",
       "      <td>...</td>\n",
       "      <td>...</td>\n",
       "    </tr>\n",
       "    <tr>\n",
       "      <th>528</th>\n",
       "      <td>Tautira</td>\n",
       "      <td>PF</td>\n",
       "      <td>87.80</td>\n",
       "      <td>-17.73</td>\n",
       "      <td>-149.15</td>\n",
       "      <td></td>\n",
       "    </tr>\n",
       "    <tr>\n",
       "      <th>530</th>\n",
       "      <td>Pochutla</td>\n",
       "      <td>MX</td>\n",
       "      <td>87.01</td>\n",
       "      <td>15.74</td>\n",
       "      <td>-96.47</td>\n",
       "      <td></td>\n",
       "    </tr>\n",
       "    <tr>\n",
       "      <th>532</th>\n",
       "      <td>Dhidhdhoo</td>\n",
       "      <td>MV</td>\n",
       "      <td>81.61</td>\n",
       "      <td>6.88</td>\n",
       "      <td>73.10</td>\n",
       "      <td></td>\n",
       "    </tr>\n",
       "    <tr>\n",
       "      <th>540</th>\n",
       "      <td>Keetmanshoop</td>\n",
       "      <td>NaN</td>\n",
       "      <td>80.60</td>\n",
       "      <td>-26.57</td>\n",
       "      <td>18.15</td>\n",
       "      <td></td>\n",
       "    </tr>\n",
       "    <tr>\n",
       "      <th>543</th>\n",
       "      <td>Praia</td>\n",
       "      <td>BR</td>\n",
       "      <td>77.00</td>\n",
       "      <td>-20.25</td>\n",
       "      <td>-43.81</td>\n",
       "      <td></td>\n",
       "    </tr>\n",
       "  </tbody>\n",
       "</table>\n",
       "<p>139 rows × 6 columns</p>\n",
       "</div>"
      ],
      "text/plain": [
       "                       City Country  Max Temp    Lat     Lng Hotel Name\n",
       "2                     Krabi      TH     75.20   8.06   98.92           \n",
       "3                    Barrow      AR     77.27 -38.31  -60.23           \n",
       "4                 Ankazoabo      MG     75.22 -22.29   44.51           \n",
       "6                    Atuona      PF     81.55  -9.80 -139.03           \n",
       "11   Sao Francisco De Paula      BR     75.99 -29.45  -50.58           \n",
       "..                      ...     ...       ...    ...     ...        ...\n",
       "528                 Tautira      PF     87.80 -17.73 -149.15           \n",
       "530                Pochutla      MX     87.01  15.74  -96.47           \n",
       "532               Dhidhdhoo      MV     81.61   6.88   73.10           \n",
       "540            Keetmanshoop     NaN     80.60 -26.57   18.15           \n",
       "543                   Praia      BR     77.00 -20.25  -43.81           \n",
       "\n",
       "[139 rows x 6 columns]"
      ]
     },
     "execution_count": 13,
     "metadata": {},
     "output_type": "execute_result"
    }
   ],
   "source": [
    "# Create DataFrame called hotel_df to store hotel names along with city, country, max temp, and coordinates.\n",
    "hotel_df = preferred_cities_df[[\"City\", \"Country\", \"Max Temp\", \"Lat\", \"Lng\"]].copy()\n",
    "hotel_df[\"Hotel Name\"] = \"\"\n",
    "hotel_df"
   ]
  },
  {
   "cell_type": "code",
   "execution_count": 14,
   "metadata": {},
   "outputs": [],
   "source": [
    "# Set parameters to search for a hotel.\n",
    "params = {\n",
    "    \"radius\": 5000,\n",
    "    \"type\": \"lodging\",\n",
    "    \"key\": g_key\n",
    "}"
   ]
  },
  {
   "cell_type": "code",
   "execution_count": 15,
   "metadata": {},
   "outputs": [
    {
     "name": "stdout",
     "output_type": "stream",
     "text": [
      "Hotel not found... skipping.\n",
      "Hotel not found... skipping.\n",
      "Hotel not found... skipping.\n",
      "Hotel not found... skipping.\n",
      "Hotel not found... skipping.\n",
      "Hotel not found... skipping.\n",
      "Hotel not found... skipping.\n",
      "Hotel not found... skipping.\n",
      "Hotel not found... skipping.\n",
      "Hotel not found... skipping.\n",
      "Hotel not found... skipping.\n"
     ]
    }
   ],
   "source": [
    "# Iterate through the DataFrame.\n",
    "for index, row in hotel_df.iterrows():\n",
    "    # Get the latitude and longitude.\n",
    "    lat = row[\"Lat\"]\n",
    "    lng = row[\"Lng\"]\n",
    "\n",
    "    # Add the latitude and longitude to the params dictionary as values to the location key.\n",
    "    params[\"location\"] = f\"{lat},{lng}\"\n",
    "\n",
    "    # Use the search term: \"lodging\" and our latitude and longitude.\n",
    "    base_url = \"https://maps.googleapis.com/maps/api/place/nearbysearch/json\"\n",
    "    # Make request and get the JSON data from the search.\n",
    "    hotels = requests.get(base_url, params=params).json()\n",
    "    # Grab the first hotel from the results and store the name.\n",
    "    try:\n",
    "        hotel_df.loc[index, \"Hotel Name\"] = hotels[\"results\"][0][\"name\"]\n",
    "    except (IndexError):\n",
    "        print(\"Hotel not found... skipping.\")"
   ]
  },
  {
   "cell_type": "code",
   "execution_count": 17,
   "metadata": {},
   "outputs": [
    {
     "data": {
      "text/html": [
       "<div>\n",
       "<style scoped>\n",
       "    .dataframe tbody tr th:only-of-type {\n",
       "        vertical-align: middle;\n",
       "    }\n",
       "\n",
       "    .dataframe tbody tr th {\n",
       "        vertical-align: top;\n",
       "    }\n",
       "\n",
       "    .dataframe thead th {\n",
       "        text-align: right;\n",
       "    }\n",
       "</style>\n",
       "<table border=\"1\" class=\"dataframe\">\n",
       "  <thead>\n",
       "    <tr style=\"text-align: right;\">\n",
       "      <th></th>\n",
       "      <th>City</th>\n",
       "      <th>Country</th>\n",
       "      <th>Max Temp</th>\n",
       "      <th>Lat</th>\n",
       "      <th>Lng</th>\n",
       "      <th>Hotel Name</th>\n",
       "    </tr>\n",
       "  </thead>\n",
       "  <tbody>\n",
       "    <tr>\n",
       "      <th>2</th>\n",
       "      <td>Krabi</td>\n",
       "      <td>TH</td>\n",
       "      <td>75.20</td>\n",
       "      <td>8.06</td>\n",
       "      <td>98.92</td>\n",
       "      <td>Tharapark View Hotel</td>\n",
       "    </tr>\n",
       "    <tr>\n",
       "      <th>3</th>\n",
       "      <td>Barrow</td>\n",
       "      <td>AR</td>\n",
       "      <td>77.27</td>\n",
       "      <td>-38.31</td>\n",
       "      <td>-60.23</td>\n",
       "      <td></td>\n",
       "    </tr>\n",
       "    <tr>\n",
       "      <th>4</th>\n",
       "      <td>Ankazoabo</td>\n",
       "      <td>MG</td>\n",
       "      <td>75.22</td>\n",
       "      <td>-22.29</td>\n",
       "      <td>44.51</td>\n",
       "      <td>Big Gay</td>\n",
       "    </tr>\n",
       "    <tr>\n",
       "      <th>6</th>\n",
       "      <td>Atuona</td>\n",
       "      <td>PF</td>\n",
       "      <td>81.55</td>\n",
       "      <td>-9.80</td>\n",
       "      <td>-139.03</td>\n",
       "      <td>Villa Enata</td>\n",
       "    </tr>\n",
       "    <tr>\n",
       "      <th>11</th>\n",
       "      <td>Sao Francisco De Paula</td>\n",
       "      <td>BR</td>\n",
       "      <td>75.99</td>\n",
       "      <td>-29.45</td>\n",
       "      <td>-50.58</td>\n",
       "      <td>Village da Serra Hotel</td>\n",
       "    </tr>\n",
       "    <tr>\n",
       "      <th>...</th>\n",
       "      <td>...</td>\n",
       "      <td>...</td>\n",
       "      <td>...</td>\n",
       "      <td>...</td>\n",
       "      <td>...</td>\n",
       "      <td>...</td>\n",
       "    </tr>\n",
       "    <tr>\n",
       "      <th>528</th>\n",
       "      <td>Tautira</td>\n",
       "      <td>PF</td>\n",
       "      <td>87.80</td>\n",
       "      <td>-17.73</td>\n",
       "      <td>-149.15</td>\n",
       "      <td>Pension Oaoa</td>\n",
       "    </tr>\n",
       "    <tr>\n",
       "      <th>530</th>\n",
       "      <td>Pochutla</td>\n",
       "      <td>MX</td>\n",
       "      <td>87.01</td>\n",
       "      <td>15.74</td>\n",
       "      <td>-96.47</td>\n",
       "      <td>Hotel Posada San Jose</td>\n",
       "    </tr>\n",
       "    <tr>\n",
       "      <th>532</th>\n",
       "      <td>Dhidhdhoo</td>\n",
       "      <td>MV</td>\n",
       "      <td>81.61</td>\n",
       "      <td>6.88</td>\n",
       "      <td>73.10</td>\n",
       "      <td></td>\n",
       "    </tr>\n",
       "    <tr>\n",
       "      <th>540</th>\n",
       "      <td>Keetmanshoop</td>\n",
       "      <td>NaN</td>\n",
       "      <td>80.60</td>\n",
       "      <td>-26.57</td>\n",
       "      <td>18.15</td>\n",
       "      <td>Bird's Mansion</td>\n",
       "    </tr>\n",
       "    <tr>\n",
       "      <th>543</th>\n",
       "      <td>Praia</td>\n",
       "      <td>BR</td>\n",
       "      <td>77.00</td>\n",
       "      <td>-20.25</td>\n",
       "      <td>-43.81</td>\n",
       "      <td>Hotel Pousada de Minas</td>\n",
       "    </tr>\n",
       "  </tbody>\n",
       "</table>\n",
       "<p>139 rows × 6 columns</p>\n",
       "</div>"
      ],
      "text/plain": [
       "                       City Country  Max Temp    Lat     Lng  \\\n",
       "2                     Krabi      TH     75.20   8.06   98.92   \n",
       "3                    Barrow      AR     77.27 -38.31  -60.23   \n",
       "4                 Ankazoabo      MG     75.22 -22.29   44.51   \n",
       "6                    Atuona      PF     81.55  -9.80 -139.03   \n",
       "11   Sao Francisco De Paula      BR     75.99 -29.45  -50.58   \n",
       "..                      ...     ...       ...    ...     ...   \n",
       "528                 Tautira      PF     87.80 -17.73 -149.15   \n",
       "530                Pochutla      MX     87.01  15.74  -96.47   \n",
       "532               Dhidhdhoo      MV     81.61   6.88   73.10   \n",
       "540            Keetmanshoop     NaN     80.60 -26.57   18.15   \n",
       "543                   Praia      BR     77.00 -20.25  -43.81   \n",
       "\n",
       "                 Hotel Name  \n",
       "2      Tharapark View Hotel  \n",
       "3                            \n",
       "4                   Big Gay  \n",
       "6               Villa Enata  \n",
       "11   Village da Serra Hotel  \n",
       "..                      ...  \n",
       "528            Pension Oaoa  \n",
       "530   Hotel Posada San Jose  \n",
       "532                          \n",
       "540          Bird's Mansion  \n",
       "543  Hotel Pousada de Minas  \n",
       "\n",
       "[139 rows x 6 columns]"
      ]
     },
     "execution_count": 17,
     "metadata": {},
     "output_type": "execute_result"
    }
   ],
   "source": [
    "hotel_df"
   ]
  },
  {
   "cell_type": "code",
   "execution_count": 20,
   "metadata": {},
   "outputs": [
    {
     "data": {
      "application/vnd.jupyter.widget-view+json": {
       "model_id": "4ef0db3e432248889f4fa3a858b06380",
       "version_major": 2,
       "version_minor": 0
      },
      "text/plain": [
       "Figure(layout=FigureLayout(height='420px'))"
      ]
     },
     "metadata": {},
     "output_type": "display_data"
    }
   ],
   "source": [
    "# Add a heatmap of temperature for the vacation spots.\n",
    "locations = hotel_df[[\"Lat\", \"Lng\"]]\n",
    "max_temp = hotel_df[\"Max Temp\"]\n",
    "fig = gmaps.figure(center=(30.0, 31.0), zoom_level=1.5)\n",
    "heat_layer = gmaps.heatmap_layer(locations, weights=max_temp, dissipating=False, max_intensity=300, point_radius=4)\n",
    "\n",
    "fig.add_layer(heat_layer)\n",
    "# Call the figure to plot the data.\n",
    "fig"
   ]
  },
  {
   "cell_type": "code",
   "execution_count": 23,
   "metadata": {},
   "outputs": [
    {
     "data": {
      "application/vnd.jupyter.widget-view+json": {
       "model_id": "60bc2d228bc34aa2abe7361468ed939f",
       "version_major": 2,
       "version_minor": 0
      },
      "text/plain": [
       "Figure(layout=FigureLayout(height='420px'))"
      ]
     },
     "metadata": {},
     "output_type": "display_data"
    }
   ],
   "source": [
    "# Add a heatmap of temperature for the vacation spots and marker for each city.\n",
    "locations = hotel_df[[\"Lat\", \"Lng\"]]\n",
    "max_temp = hotel_df[\"Max Temp\"]\n",
    "fig = gmaps.figure(center=(30.0, 31.0), zoom_level=1.5)\n",
    "heat_layer = gmaps.heatmap_layer(locations, weights=max_temp, dissipating=False, max_intensity=300, point_radius=4)\n",
    "marker_layer = gmaps.marker_layer(locations)\n",
    "fig.add_layer(heat_layer)\n",
    "fig.add_layer(marker_layer)\n",
    "# Call the figure to plot the data.\n",
    "fig"
   ]
  },
  {
   "cell_type": "code",
   "execution_count": 25,
   "metadata": {},
   "outputs": [],
   "source": [
    "info_box_template = \"\"\"\n",
    "<dl>\n",
    "<dt>Hotel Name</dt><dd>{Hotel Name}</dd>\n",
    "<dt>City</dt><dd>{City}</dd>\n",
    "<dt>Country</dt><dd>{Country}</dd>\n",
    "<dt>Max Temp</dt><dd>{Max Temp} °F</dd>\n",
    "</dl>\n",
    "\"\"\"\n",
    "\n",
    "# Store the DataFrame Row.\n",
    "hotel_info = [info_box_template.format(**row) for index, row in hotel_df.iterrows()]"
   ]
  },
  {
   "cell_type": "code",
   "execution_count": 26,
   "metadata": {},
   "outputs": [
    {
     "data": {
      "application/vnd.jupyter.widget-view+json": {
       "model_id": "069f804a1a174150b5347c2c824cdfd0",
       "version_major": 2,
       "version_minor": 0
      },
      "text/plain": [
       "Figure(layout=FigureLayout(height='420px'))"
      ]
     },
     "metadata": {},
     "output_type": "display_data"
    }
   ],
   "source": [
    "# Add a heatmap of temperature for the vacation spots and a pop-up marker for each city.\n",
    "locations = hotel_df[[\"Lat\", \"Lng\"]]\n",
    "max_temp = hotel_df[\"Max Temp\"]\n",
    "fig = gmaps.figure(center=(30.0, 31.0), zoom_level=1.5)\n",
    "heat_layer = gmaps.heatmap_layer(locations, weights=max_temp,dissipating=False,\n",
    "             max_intensity=300, point_radius=4)\n",
    "marker_layer = gmaps.marker_layer(locations, info_box_content=hotel_info)\n",
    "fig.add_layer(heat_layer)\n",
    "fig.add_layer(marker_layer)\n",
    "\n",
    "# Call the figure to plot the data.\n",
    "fig"
   ]
  },
  {
   "cell_type": "code",
   "execution_count": null,
   "metadata": {},
   "outputs": [],
   "source": []
  }
 ],
 "metadata": {
  "kernelspec": {
   "display_name": "PythonData",
   "language": "python",
   "name": "pythondata"
  },
  "language_info": {
   "codemirror_mode": {
    "name": "ipython",
    "version": 3
   },
   "file_extension": ".py",
   "mimetype": "text/x-python",
   "name": "python",
   "nbconvert_exporter": "python",
   "pygments_lexer": "ipython3",
   "version": "3.6.9"
  }
 },
 "nbformat": 4,
 "nbformat_minor": 2
}
